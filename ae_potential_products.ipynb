{
  "nbformat": 4,
  "nbformat_minor": 0,
  "metadata": {
    "colab": {
      "name": "csgorun_auto.ipynb",
      "provenance": [],
      "collapsed_sections": []
    },
    "kernelspec": {
      "name": "python3",
      "display_name": "Python 3"
    }
  },
  "cells": [
    {
      "cell_type": "code",
      "metadata": {
        "id": "DEwAI-jCzbat",
        "colab_type": "code",
        "colab": {}
      },
      "source": [
        "from bs4 import BeautifulSoup\n",
        "import requests as req\n",
        "import lxml\n",
        "import pandas as pd\n",
        "import numpy as np"
      ],
      "execution_count": 2,
      "outputs": []
    },
    {
      "cell_type": "markdown",
      "metadata": {
        "id": "0CvT_wh_TCJV",
        "colab_type": "text"
      },
      "source": [
        "Рассмотрим пример работы с каким-то конкретным магазином. Например: ONEVAN S925 STORE (https://prnt.sc/u1k9ya) "
      ]
    },
    {
      "cell_type": "code",
      "metadata": {
        "id": "294QjA_0N13V",
        "colab_type": "code",
        "colab": {}
      },
      "source": [
        " page = req.get('https://aliexpress.ru/store/top-rated-products/5729146.html')\n",
        " bs = BeautifulSoup(page.content, 'lxml')"
      ],
      "execution_count": 5,
      "outputs": []
    },
    {
      "cell_type": "code",
      "metadata": {
        "id": "PG3nruWUPK-4",
        "colab_type": "code",
        "colab": {
          "base_uri": "https://localhost:8080/",
          "height": 34
        },
        "outputId": "9022e0db-99ab-400e-9fd0-ac458761a638"
      },
      "source": [
        "items = bs.find_all('li', attrs = {'item'})\n",
        "len(items)"
      ],
      "execution_count": 9,
      "outputs": [
        {
          "output_type": "execute_result",
          "data": {
            "text/plain": [
              "44"
            ]
          },
          "metadata": {
            "tags": []
          },
          "execution_count": 9
        }
      ]
    },
    {
      "cell_type": "markdown",
      "metadata": {
        "id": "0k9s8QHOPgTI",
        "colab_type": "text"
      },
      "source": [
        "Получили карточки товара (данные ещё надо чистить, они с дубликатами, но как факт, парсинг возможен). Раз html код позволяет обращаться к ним, то мы спокойно сможем вытащить оттуда:\n",
        "- ссылку на продукт\n",
        "- название продукта\n",
        "- число заказов\n",
        "- рейтинг\n",
        "- цену"
      ]
    },
    {
      "cell_type": "code",
      "metadata": {
        "id": "7M4jCTctPuUO",
        "colab_type": "code",
        "colab": {
          "base_uri": "https://localhost:8080/",
          "height": 411
        },
        "outputId": "d06355b7-3aec-406f-dacc-3a62166821f1"
      },
      "source": [
        "# пример отображения одного товара\n",
        "items[0]"
      ],
      "execution_count": 11,
      "outputs": [
        {
          "output_type": "execute_result",
          "data": {
            "text/plain": [
              "<li class=\"item\">\n",
              "<div class=\"img\">\n",
              "<div class=\"pic\">\n",
              "<a class=\"pic-rind\" href=\"//aliexpress.ru/item/4001055185417.html\"><img alt=\"Мода 925 стерлингового серебра с О-образным вырезом цепи ожерелье 0,3 см/0,4 см/0,5 см циркон ожерелье для женщин подарок, летнее, модное, ювелирно...\" class=\"picCore lazy-load\" image-src=\"//ae01.alicdn.com/kf/Hed1608cf2e0d4bacb765bb58738ce0daf/Trendy-925-Sterling-Silver-O-Chain-Necklace-0-3cm-0-4cm-0-5cm-Zircon-Necklace-For.jpg_200x200.jpg\"/></a>\n",
              "</div>\n",
              "<div class=\"discount\">\n",
              "<span class=\"rate\">35</span>\n",
              "</div>\n",
              "</div>\n",
              "<div class=\"detail\">\n",
              "<h3>\n",
              "<a href=\"//aliexpress.ru/item/4001055185417.html\" title=\"Мода 925 стерлингового серебра с О-образным вырезом цепи ожерелье 0,3 см/0,4 см/0,5 см циркон ожерелье для женщин подарок, летнее, модное, ювелирно...\">Мода 925 стерлингового серебра с О-образным вырезом цепи...</a>\n",
              "</h3>\n",
              "<div class=\"cost\"><b>180,05 руб.</b> / шт.</div>\n",
              "<div class=\"cost-old\"><del>276,88 руб. / шт.</del></div>\n",
              "<div class=\"recent-order\"> Заказов(897) </div>\n",
              "</div>\n",
              "<div class=\"info\">\n",
              "<input class=\"atc-product-id\" type=\"hidden\" value=\"4001055185417\"/>\n",
              "<input class=\"atc-product-standard\" type=\"hidden\" value=\"\"/>\n",
              "</div>\n",
              "</li>"
            ]
          },
          "metadata": {
            "tags": []
          },
          "execution_count": 11
        }
      ]
    },
    {
      "cell_type": "markdown",
      "metadata": {
        "id": "BVG7vfgBQmTq",
        "colab_type": "text"
      },
      "source": [
        "Соответственно мы можем с интервалом, например, раз в сутки (можно и чаще, чтобы чувствительнее ловить изменения — например, 6/12 часов) возвращаться за информацией о числе заказов. И смотреть динамику. <br>\n",
        "<br>\n",
        "Имеет резон смотреть на динамику процентного изменения числа заказов, чтобы нормализовать измерения."
      ]
    },
    {
      "cell_type": "markdown",
      "metadata": {
        "id": "VE4GmirCTmmi",
        "colab_type": "text"
      },
      "source": [
        "Таким образом, мы получаем перспективные товары в рамках одного магазина. "
      ]
    },
    {
      "cell_type": "markdown",
      "metadata": {
        "id": "pb0p_4r0T1uM",
        "colab_type": "text"
      },
      "source": [
        "<h3>Вопрос с конкуренцией</h3>"
      ]
    },
    {
      "cell_type": "markdown",
      "metadata": {
        "id": "MzVLVgF-Ux79",
        "colab_type": "text"
      },
      "source": [
        "Так как мы забрали ссылки на конкретные товары, то мы можем перейти на их страницы, например на [конкретную подвеску](https://aliexpress.ru/item/4001055185417.html?spm=a2g0v.12010610.8148356.1.feb1190cj5jTUJ) и забрать тип товара, в котором она находится, из [характеристик](https://prnt.sc/u1kgd3). "
      ]
    },
    {
      "cell_type": "markdown",
      "metadata": {
        "id": "wiyKnNAfVQlC",
        "colab_type": "text"
      },
      "source": [
        "Сейчас у меня не вышло это сделать для примера (блок Характеристик открывается после работы js, пока не знаю, как это спарсить, не работал с таким, но уверен, что это возможно). "
      ]
    },
    {
      "cell_type": "markdown",
      "metadata": {
        "id": "iwPYF5aWVLaM",
        "colab_type": "text"
      },
      "source": [
        "В дальнейшем мы будем смотреть на количество товаров категории. И выбирать, соответствествнно, категории, где товаров не так много. <br>\n",
        "<br>\n",
        "Дополнительно можно также парсить и суммировать число продаж популярных товаров в категории, чтобы также смотреть на их динамику. \n",
        "<br><br>\n",
        "Популярная по процентной динамике категория с малым количеством товара + товар с хорошей динамикой - идеальный вариант."
      ]
    },
    {
      "cell_type": "markdown",
      "metadata": {
        "id": "cXYGGtB8WFDS",
        "colab_type": "text"
      },
      "source": [
        "<h3>Метрика</h3>"
      ]
    },
    {
      "cell_type": "markdown",
      "metadata": {
        "id": "MJ4FtR-iWIFm",
        "colab_type": "text"
      },
      "source": [
        "Кастомной метрикой для измерения потецниала товара может служить следующий коэффициент: \n",
        "\n",
        "$$coef\\_dyn = \\frac{item\\_dyn}{mean\\_top\\_dyn},$$ где в знаменателе динамика рассматриваемого продукта, в знаменателе - средняя динамика по топу в категории. <br>\n",
        "Чем выше данный коэффициент, тем интереснее нам продукт. <br>\n",
        "<br>\n",
        "Смотреть его имеет смысл в связке с количественным приростом заказов за сутки хотя бы по топовым товарам категории (чтобы понимать её посещаемость) и с числом товаров в категории. "
      ]
    },
    {
      "cell_type": "markdown",
      "metadata": {
        "id": "N4BRq3g_Y2T_",
        "colab_type": "text"
      },
      "source": [
        "<h3>Магазины</h3>"
      ]
    },
    {
      "cell_type": "markdown",
      "metadata": {
        "id": "uGKSwUziY4ez",
        "colab_type": "text"
      },
      "source": [
        "В начале мы взяли случайный магазин. <br>\n",
        "Магазины для парсинга для конкретного клиента могут собираться вручную: мы ведь не хотим сделать мусорный сервис-агрегатор, где есть всё подряд, а желаем скорее действовать в рамках какой-то категории, которую обозначает заинтересованный клиент. <br>\n",
        "<br>\n",
        "Либо мы также можем парсить ссылки на магазины с карточки товара: они доступны в числе [прочих элементов](https://prnt.sc/u1kwan). И далее идти по уже полученному списку магазинов в нужной категории. "
      ]
    },
    {
      "cell_type": "markdown",
      "metadata": {
        "id": "3chJ3MxqX7tH",
        "colab_type": "text"
      },
      "source": [
        "<h3>P.S.</h3>\n",
        "\n",
        "Это было моё первое посещение AliExpress. Пока достаточно чужеродный и малознакомый для меня ресурс.<br> \n",
        "Возможно, мы можем найти какие-то сервисы, которые предоставляют информацию о количество заказов по категориям с AE (я таковых не нашёл), возможно, мы можем без лишних техических затрат лучше получать информацию о востребованности категории (количестве заказов). <br><br>\n",
        "Но считаю, что предложенный мной вариант вполне может быть baseline-решением данной задачи. уверен, ещё большее погружение непосредственно в ходе работы позволило бы «нарастить» данное решение, оснастив его новыми возможностями. "
      ]
    }
  ]
}