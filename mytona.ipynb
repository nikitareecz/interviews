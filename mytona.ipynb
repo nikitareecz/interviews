{
  "nbformat": 4,
  "nbformat_minor": 0,
  "metadata": {
    "colab": {
      "name": "mytona",
      "provenance": []
    },
    "kernelspec": {
      "name": "python3",
      "display_name": "Python 3"
    }
  },
  "cells": [
    {
      "cell_type": "code",
      "metadata": {
        "id": "m8p0Gn3Ugrv1",
        "colab_type": "code",
        "colab": {}
      },
      "source": [
        "import pandas as pd\n",
        "import numpy as np\n",
        "import matplotlib\n",
        "import matplotlib.pyplot as plt\n",
        "from matplotlib.ticker import MultipleLocator\n",
        "%matplotlib inline\n",
        "import seaborn as sns\n",
        "import warnings\n",
        "warnings.filterwarnings('ignore')"
      ],
      "execution_count": null,
      "outputs": []
    },
    {
      "cell_type": "markdown",
      "metadata": {
        "id": "-aSQ4B--bgXC",
        "colab_type": "text"
      },
      "source": [
        "<h1>Блок 1</h1>"
      ]
    },
    {
      "cell_type": "markdown",
      "metadata": {
        "id": "r6Mhtg05q7Wj",
        "colab_type": "text"
      },
      "source": [
        "<h3>Вопрос 1</h3>"
      ]
    },
    {
      "cell_type": "markdown",
      "metadata": {
        "id": "QjhyquQZb1gb",
        "colab_type": "text"
      },
      "source": [
        "**Таблица 1**\n",
        "<br>\n",
        "$$ARPPU = 3.14$$ <br>\n",
        "$$ARPU = 0.33$$ <br>\n",
        "$$DPU = 23415$$ <br>\n",
        "\n",
        "$$Payers = \\frac{ARPU}{ARPPU} = \\frac{0.33}{3.14} = 0.1051 = 10.51\\%$$ <br>\n",
        "<br>\n",
        "$$DAU * payers = DPU \\Rightarrow DAU = \\frac {23415}{0.1051} = 222797$$ <br>\n",
        "<br>\n",
        "$$Revenue = DAU * ARPU = 222797*0.33 = 72523.1$$\n"
      ]
    },
    {
      "cell_type": "markdown",
      "metadata": {
        "id": "ZmPF3_rjd7H3",
        "colab_type": "text"
      },
      "source": [
        "**Таблица 2**\n",
        "<br>\n",
        "$$Revenue = 59400$$ <br>\n",
        "$$DPU = 7425$$ <br>\n",
        "$$Payers = 5.5\\%$$ <br>\n",
        "$$DAU * payers = DPU \\Rightarrow DAU = \\frac {7425}{0.055} = 135000$$  <br>\n",
        "$$Revenue = DAU * ARPU \\Rightarrow ARPU = \\frac{59400}{135000} = 0.44 $$ <br>\n",
        "$$ARPU = ARPPU * Payers \\Rightarrow ARPPU = \\frac{0.44}{0.055} = 8$$"
      ]
    },
    {
      "cell_type": "markdown",
      "metadata": {
        "id": "RqFxKl2ygPb6",
        "colab_type": "text"
      },
      "source": [
        "Во второй игре процент платящих пользователей меньше, но больше доход с каждого. Сравним отношения. <br>\n",
        "<br>\n",
        "$\\frac{Payers1}{Payers2} = \\frac{0.1051}{0.055} = 1.91$\n",
        "<br><br>\n",
        "$\\frac{ARPPU2}{ARPPU1} = \\frac{8}{3.14} = 2.54$ <br>\n",
        "<br>\n",
        "Как видим, доход с пользователя во второй игре больше в ~2.5 раза, в то время как платят меньше только в ~1.9 раза. Поэтому вторая игра лучше. <br>\n",
        "В целом, это же подтверждает и доход с пользователя по всем пользователям (ARPU), у второй игры он выше (прямое следствие из посчитанного выше)."
      ]
    },
    {
      "cell_type": "markdown",
      "metadata": {
        "id": "x7HMQy3XrESd",
        "colab_type": "text"
      },
      "source": [
        "<h3>Вопрос 2</h3>"
      ]
    },
    {
      "cell_type": "markdown",
      "metadata": {
        "id": "WlCpwLaIrGSx",
        "colab_type": "text"
      },
      "source": [
        "- Возможно, стоит обратить внимание на сложность уровней (особенно если были обновления). Они могут быть слишком сложными, от чего игроки устают.\n",
        "- Возможно, наоборот, игра проходится слишком легко, и пользователи успеют полностью пройти её. Также оцениваем сложность.\n",
        "- Возможно, стало больше рекламы (или она стала слишком нерелевантной), что может надоедать пользователям.\n",
        "- В любом случае, стоит смотреть на субъекты последних обновлений (системы бонусов, дизайн, уровни). Ключ может быть в них."
      ]
    },
    {
      "cell_type": "markdown",
      "metadata": {
        "id": "7TpB4aRS23N2",
        "colab_type": "text"
      },
      "source": [
        "<h3>Вопрос 3</h3>"
      ]
    },
    {
      "cell_type": "markdown",
      "metadata": {
        "id": "sZlL2Koh3G7l",
        "colab_type": "text"
      },
      "source": [
        "Высокий LT говорит о том, что пользователи заинтересованы в игре, и очень лояльны к ней. Я считаю, что временная распродажа игровой валюты только укрепит лояльность пользователей, и не только поможет быстро заработать больше, но и поможет ещё дольше удерживать пользователей в игре, ведь они получат доступ к новым расширенным возможностям, закупившись валютой. <br><br>\n",
        "Кроме того, возможен кейс, когда игрок проводил много времени в игре, но не мог себе позволить покупку. Распродажа поможет ему с покупкой, станет стимулом к вложению денег, что опять же выгодная для всех ситуация."
      ]
    },
    {
      "cell_type": "markdown",
      "metadata": {
        "id": "lhM00Sp3t9ey",
        "colab_type": "text"
      },
      "source": [
        "<h3>Вопрос 4</h3>"
      ]
    },
    {
      "cell_type": "markdown",
      "metadata": {
        "id": "XREpUiTIt_Mg",
        "colab_type": "text"
      },
      "source": [
        "Ситуация похожа на вопрос 1, с двумя таблицами. <br><br>\n",
        "Пусть $x$ и $y$ - срдений чек и количество платящих. <br>\n",
        "Тогда прибыль была $xy$, а стала $0.9072xy$. <br><br>\n",
        "Фактически, сейчас мы в минусе, однако, так как обновление успешно с точки зрения играбельности, потенциально довольные пользователи могут обеспечить рост приложения, который позволит перекрыть текущие потери в 9.28% и заработать значительно больше. <br><br>\n",
        "Кроме того, ряд давних пользователей может ещё только привыкать в новой фактуре приложения, поэтому они ещё не решаются на пополнение баланса игры. Однако, так как геймплей большинству по душе, они ещё могут захотеть что-то приобрести, а значит падение количества платежей временное.\n",
        "<br><br>\n",
        "Обновление можно считать успешным."
      ]
    },
    {
      "cell_type": "markdown",
      "metadata": {
        "id": "zVI0OgLevHcU",
        "colab_type": "text"
      },
      "source": [
        "<h3>Вопрос 5</h3>"
      ]
    },
    {
      "cell_type": "code",
      "metadata": {
        "id": "uzLJUOT4vy3P",
        "colab_type": "code",
        "colab": {
          "base_uri": "https://localhost:8080/",
          "height": 142
        },
        "outputId": "a05483c8-f95d-46fc-a075-1e963c9f4a04"
      },
      "source": [
        "df1_5 = pd.read_csv('ex1.5.csv', sep = '\\t')\n",
        "df1_5['ARPU1'] = (df1_5.Hint1 + df1_5.Hint2*2.5) / df1_5['Player count']\n",
        "df1_5['ARPU2'] = (df1_5.Hint1*0.5 + df1_5.Hint2*0.2) / df1_5['Player count']\n",
        "df1_5['player_pct_change'] = round(100*df1_5['Player count'].pct_change().shift(-1), 2)\n",
        "df1_5.head(3)"
      ],
      "execution_count": 32,
      "outputs": [
        {
          "output_type": "execute_result",
          "data": {
            "text/html": [
              "<div>\n",
              "<style scoped>\n",
              "    .dataframe tbody tr th:only-of-type {\n",
              "        vertical-align: middle;\n",
              "    }\n",
              "\n",
              "    .dataframe tbody tr th {\n",
              "        vertical-align: top;\n",
              "    }\n",
              "\n",
              "    .dataframe thead th {\n",
              "        text-align: right;\n",
              "    }\n",
              "</style>\n",
              "<table border=\"1\" class=\"dataframe\">\n",
              "  <thead>\n",
              "    <tr style=\"text-align: right;\">\n",
              "      <th></th>\n",
              "      <th>Level</th>\n",
              "      <th>Hint1</th>\n",
              "      <th>Hint2</th>\n",
              "      <th>Player count</th>\n",
              "      <th>ARPU1</th>\n",
              "      <th>ARPU2</th>\n",
              "      <th>player_pct_change</th>\n",
              "    </tr>\n",
              "  </thead>\n",
              "  <tbody>\n",
              "    <tr>\n",
              "      <th>0</th>\n",
              "      <td>36</td>\n",
              "      <td>292</td>\n",
              "      <td>93</td>\n",
              "      <td>23589</td>\n",
              "      <td>0.022235</td>\n",
              "      <td>0.006978</td>\n",
              "      <td>-5.12</td>\n",
              "    </tr>\n",
              "    <tr>\n",
              "      <th>1</th>\n",
              "      <td>37</td>\n",
              "      <td>977</td>\n",
              "      <td>683</td>\n",
              "      <td>22381</td>\n",
              "      <td>0.119945</td>\n",
              "      <td>0.027930</td>\n",
              "      <td>-4.43</td>\n",
              "    </tr>\n",
              "    <tr>\n",
              "      <th>2</th>\n",
              "      <td>38</td>\n",
              "      <td>465</td>\n",
              "      <td>392</td>\n",
              "      <td>21390</td>\n",
              "      <td>0.067555</td>\n",
              "      <td>0.014535</td>\n",
              "      <td>-1.76</td>\n",
              "    </tr>\n",
              "  </tbody>\n",
              "</table>\n",
              "</div>"
            ],
            "text/plain": [
              "   Level  Hint1  Hint2  Player count     ARPU1     ARPU2  player_pct_change\n",
              "0     36    292     93         23589  0.022235  0.006978              -5.12\n",
              "1     37    977    683         22381  0.119945  0.027930              -4.43\n",
              "2     38    465    392         21390  0.067555  0.014535              -1.76"
            ]
          },
          "metadata": {
            "tags": []
          },
          "execution_count": 32
        }
      ]
    },
    {
      "cell_type": "markdown",
      "metadata": {
        "id": "_lcq6jFDxQzZ",
        "colab_type": "text"
      },
      "source": [
        "Посмотрим на ситуацию 1."
      ]
    },
    {
      "cell_type": "code",
      "metadata": {
        "id": "oTZJ9Hoswy_-",
        "colab_type": "code",
        "colab": {
          "base_uri": "https://localhost:8080/",
          "height": 204
        },
        "outputId": "103740f0-f463-4777-b6f4-d21d9e37cd1c"
      },
      "source": [
        "df1_5[['Level', 'ARPU1', 'player_pct_change']].sort_values(by = 'ARPU1', ascending = False).head(5)"
      ],
      "execution_count": 33,
      "outputs": [
        {
          "output_type": "execute_result",
          "data": {
            "text/html": [
              "<div>\n",
              "<style scoped>\n",
              "    .dataframe tbody tr th:only-of-type {\n",
              "        vertical-align: middle;\n",
              "    }\n",
              "\n",
              "    .dataframe tbody tr th {\n",
              "        vertical-align: top;\n",
              "    }\n",
              "\n",
              "    .dataframe thead th {\n",
              "        text-align: right;\n",
              "    }\n",
              "</style>\n",
              "<table border=\"1\" class=\"dataframe\">\n",
              "  <thead>\n",
              "    <tr style=\"text-align: right;\">\n",
              "      <th></th>\n",
              "      <th>Level</th>\n",
              "      <th>ARPU1</th>\n",
              "      <th>player_pct_change</th>\n",
              "    </tr>\n",
              "  </thead>\n",
              "  <tbody>\n",
              "    <tr>\n",
              "      <th>6</th>\n",
              "      <td>42</td>\n",
              "      <td>0.290600</td>\n",
              "      <td>-28.10</td>\n",
              "    </tr>\n",
              "    <tr>\n",
              "      <th>13</th>\n",
              "      <td>49</td>\n",
              "      <td>0.285171</td>\n",
              "      <td>-9.82</td>\n",
              "    </tr>\n",
              "    <tr>\n",
              "      <th>9</th>\n",
              "      <td>45</td>\n",
              "      <td>0.230191</td>\n",
              "      <td>-1.64</td>\n",
              "    </tr>\n",
              "    <tr>\n",
              "      <th>10</th>\n",
              "      <td>46</td>\n",
              "      <td>0.192144</td>\n",
              "      <td>-14.42</td>\n",
              "    </tr>\n",
              "    <tr>\n",
              "      <th>11</th>\n",
              "      <td>47</td>\n",
              "      <td>0.188109</td>\n",
              "      <td>-3.42</td>\n",
              "    </tr>\n",
              "  </tbody>\n",
              "</table>\n",
              "</div>"
            ],
            "text/plain": [
              "    Level     ARPU1  player_pct_change\n",
              "6      42  0.290600             -28.10\n",
              "13     49  0.285171              -9.82\n",
              "9      45  0.230191              -1.64\n",
              "10     46  0.192144             -14.42\n",
              "11     47  0.188109              -3.42"
            ]
          },
          "metadata": {
            "tags": []
          },
          "execution_count": 33
        }
      ]
    },
    {
      "cell_type": "markdown",
      "metadata": {
        "id": "k2OEHLzv0A7X",
        "colab_type": "text"
      },
      "source": [
        "Видим, что с отрывом высокие показатели доходности у уровней 42 и 49 (будем считать разницу в 0.005 незначительной), однако уровень 42 значительно сильнее «отпугивает» игроков, аж 28% не возвращается на следующий уровень. А значит, **уровень 49** можно считать лучшим."
      ]
    },
    {
      "cell_type": "code",
      "metadata": {
        "id": "kLmGDjXj0qm9",
        "colab_type": "code",
        "colab": {
          "base_uri": "https://localhost:8080/",
          "height": 204
        },
        "outputId": "5d127081-a400-4534-fd3d-0a12464efaaa"
      },
      "source": [
        "df1_5[['Level', 'ARPU1', 'player_pct_change']].sort_values(by = 'ARPU1', ascending = True).head(5)"
      ],
      "execution_count": 34,
      "outputs": [
        {
          "output_type": "execute_result",
          "data": {
            "text/html": [
              "<div>\n",
              "<style scoped>\n",
              "    .dataframe tbody tr th:only-of-type {\n",
              "        vertical-align: middle;\n",
              "    }\n",
              "\n",
              "    .dataframe tbody tr th {\n",
              "        vertical-align: top;\n",
              "    }\n",
              "\n",
              "    .dataframe thead th {\n",
              "        text-align: right;\n",
              "    }\n",
              "</style>\n",
              "<table border=\"1\" class=\"dataframe\">\n",
              "  <thead>\n",
              "    <tr style=\"text-align: right;\">\n",
              "      <th></th>\n",
              "      <th>Level</th>\n",
              "      <th>ARPU1</th>\n",
              "      <th>player_pct_change</th>\n",
              "    </tr>\n",
              "  </thead>\n",
              "  <tbody>\n",
              "    <tr>\n",
              "      <th>0</th>\n",
              "      <td>36</td>\n",
              "      <td>0.022235</td>\n",
              "      <td>-5.12</td>\n",
              "    </tr>\n",
              "    <tr>\n",
              "      <th>8</th>\n",
              "      <td>44</td>\n",
              "      <td>0.029222</td>\n",
              "      <td>-4.64</td>\n",
              "    </tr>\n",
              "    <tr>\n",
              "      <th>2</th>\n",
              "      <td>38</td>\n",
              "      <td>0.067555</td>\n",
              "      <td>-1.76</td>\n",
              "    </tr>\n",
              "    <tr>\n",
              "      <th>12</th>\n",
              "      <td>48</td>\n",
              "      <td>0.074388</td>\n",
              "      <td>-12.86</td>\n",
              "    </tr>\n",
              "    <tr>\n",
              "      <th>5</th>\n",
              "      <td>41</td>\n",
              "      <td>0.104581</td>\n",
              "      <td>-3.52</td>\n",
              "    </tr>\n",
              "  </tbody>\n",
              "</table>\n",
              "</div>"
            ],
            "text/plain": [
              "    Level     ARPU1  player_pct_change\n",
              "0      36  0.022235              -5.12\n",
              "8      44  0.029222              -4.64\n",
              "2      38  0.067555              -1.76\n",
              "12     48  0.074388             -12.86\n",
              "5      41  0.104581              -3.52"
            ]
          },
          "metadata": {
            "tags": []
          },
          "execution_count": 34
        }
      ]
    },
    {
      "cell_type": "markdown",
      "metadata": {
        "id": "UJyW5oO30uHz",
        "colab_type": "text"
      },
      "source": [
        "Аналогично, худшим уровнем можно считать **36**: приносит меньше всех денег, но ещё и отпугивает людей сильнее, чем, например, 44. <br>"
      ]
    },
    {
      "cell_type": "markdown",
      "metadata": {
        "id": "_aIG_pbb1LMZ",
        "colab_type": "text"
      },
      "source": [
        "Посмотрим на ситуацию 2."
      ]
    },
    {
      "cell_type": "code",
      "metadata": {
        "id": "Sv7AzVO11Pc2",
        "colab_type": "code",
        "colab": {
          "base_uri": "https://localhost:8080/",
          "height": 204
        },
        "outputId": "fc57d06c-516c-45d5-fa18-46efc36b553d"
      },
      "source": [
        "df1_5[['Level', 'ARPU2', 'player_pct_change']].sort_values(by = 'ARPU2', ascending = False).head(5)"
      ],
      "execution_count": 35,
      "outputs": [
        {
          "output_type": "execute_result",
          "data": {
            "text/html": [
              "<div>\n",
              "<style scoped>\n",
              "    .dataframe tbody tr th:only-of-type {\n",
              "        vertical-align: middle;\n",
              "    }\n",
              "\n",
              "    .dataframe tbody tr th {\n",
              "        vertical-align: top;\n",
              "    }\n",
              "\n",
              "    .dataframe thead th {\n",
              "        text-align: right;\n",
              "    }\n",
              "</style>\n",
              "<table border=\"1\" class=\"dataframe\">\n",
              "  <thead>\n",
              "    <tr style=\"text-align: right;\">\n",
              "      <th></th>\n",
              "      <th>Level</th>\n",
              "      <th>ARPU2</th>\n",
              "      <th>player_pct_change</th>\n",
              "    </tr>\n",
              "  </thead>\n",
              "  <tbody>\n",
              "    <tr>\n",
              "      <th>6</th>\n",
              "      <td>42</td>\n",
              "      <td>0.077080</td>\n",
              "      <td>-28.10</td>\n",
              "    </tr>\n",
              "    <tr>\n",
              "      <th>10</th>\n",
              "      <td>46</td>\n",
              "      <td>0.059390</td>\n",
              "      <td>-14.42</td>\n",
              "    </tr>\n",
              "    <tr>\n",
              "      <th>13</th>\n",
              "      <td>49</td>\n",
              "      <td>0.054283</td>\n",
              "      <td>-9.82</td>\n",
              "    </tr>\n",
              "    <tr>\n",
              "      <th>4</th>\n",
              "      <td>40</td>\n",
              "      <td>0.041845</td>\n",
              "      <td>-9.72</td>\n",
              "    </tr>\n",
              "    <tr>\n",
              "      <th>11</th>\n",
              "      <td>47</td>\n",
              "      <td>0.041704</td>\n",
              "      <td>-3.42</td>\n",
              "    </tr>\n",
              "  </tbody>\n",
              "</table>\n",
              "</div>"
            ],
            "text/plain": [
              "    Level     ARPU2  player_pct_change\n",
              "6      42  0.077080             -28.10\n",
              "10     46  0.059390             -14.42\n",
              "13     49  0.054283              -9.82\n",
              "4      40  0.041845              -9.72\n",
              "11     47  0.041704              -3.42"
            ]
          },
          "metadata": {
            "tags": []
          },
          "execution_count": 35
        }
      ]
    },
    {
      "cell_type": "markdown",
      "metadata": {
        "id": "TxMTDg3H1TQk",
        "colab_type": "text"
      },
      "source": [
        "С отрывом самый доходный **уровень — 42**. Однако он слишком сильно отпугвает людей в дальнейшем. Возможно, в этом плане уровень 46 даже лучше. "
      ]
    },
    {
      "cell_type": "code",
      "metadata": {
        "id": "qJhi8fIz2eSX",
        "colab_type": "code",
        "colab": {
          "base_uri": "https://localhost:8080/",
          "height": 204
        },
        "outputId": "4c49a6d9-a74f-415f-9d1d-aa6cf3084c54"
      },
      "source": [
        "df1_5[['Level', 'ARPU2', 'player_pct_change']].sort_values(by = 'ARPU2', ascending = True).head(5)"
      ],
      "execution_count": 36,
      "outputs": [
        {
          "output_type": "execute_result",
          "data": {
            "text/html": [
              "<div>\n",
              "<style scoped>\n",
              "    .dataframe tbody tr th:only-of-type {\n",
              "        vertical-align: middle;\n",
              "    }\n",
              "\n",
              "    .dataframe tbody tr th {\n",
              "        vertical-align: top;\n",
              "    }\n",
              "\n",
              "    .dataframe thead th {\n",
              "        text-align: right;\n",
              "    }\n",
              "</style>\n",
              "<table border=\"1\" class=\"dataframe\">\n",
              "  <thead>\n",
              "    <tr style=\"text-align: right;\">\n",
              "      <th></th>\n",
              "      <th>Level</th>\n",
              "      <th>ARPU2</th>\n",
              "      <th>player_pct_change</th>\n",
              "    </tr>\n",
              "  </thead>\n",
              "  <tbody>\n",
              "    <tr>\n",
              "      <th>0</th>\n",
              "      <td>36</td>\n",
              "      <td>0.006978</td>\n",
              "      <td>-5.12</td>\n",
              "    </tr>\n",
              "    <tr>\n",
              "      <th>8</th>\n",
              "      <td>44</td>\n",
              "      <td>0.006994</td>\n",
              "      <td>-4.64</td>\n",
              "    </tr>\n",
              "    <tr>\n",
              "      <th>2</th>\n",
              "      <td>38</td>\n",
              "      <td>0.014535</td>\n",
              "      <td>-1.76</td>\n",
              "    </tr>\n",
              "    <tr>\n",
              "      <th>12</th>\n",
              "      <td>48</td>\n",
              "      <td>0.022732</td>\n",
              "      <td>-12.86</td>\n",
              "    </tr>\n",
              "    <tr>\n",
              "      <th>7</th>\n",
              "      <td>43</td>\n",
              "      <td>0.024295</td>\n",
              "      <td>-2.50</td>\n",
              "    </tr>\n",
              "  </tbody>\n",
              "</table>\n",
              "</div>"
            ],
            "text/plain": [
              "    Level     ARPU2  player_pct_change\n",
              "0      36  0.006978              -5.12\n",
              "8      44  0.006994              -4.64\n",
              "2      38  0.014535              -1.76\n",
              "12     48  0.022732             -12.86\n",
              "7      43  0.024295              -2.50"
            ]
          },
          "metadata": {
            "tags": []
          },
          "execution_count": 36
        }
      ]
    },
    {
      "cell_type": "markdown",
      "metadata": {
        "id": "8dRs0dTZ2htg",
        "colab_type": "text"
      },
      "source": [
        "Как и в ситуации 1, худшим уровнем можно назвать **36**."
      ]
    },
    {
      "cell_type": "markdown",
      "metadata": {
        "id": "hBXw29Tnt6Sp",
        "colab_type": "text"
      },
      "source": [
        "<h1>Блок 2</h1>"
      ]
    },
    {
      "cell_type": "code",
      "metadata": {
        "id": "GcONdhzVg15P",
        "colab_type": "code",
        "colab": {
          "base_uri": "https://localhost:8080/",
          "height": 419
        },
        "outputId": "aeef25d8-241d-45cb-9304-d349a76d26a4"
      },
      "source": [
        "df2 = pd.read_csv('ex2.csv', sep = '\\t')\n",
        "df2['quality'] = df2.item_id % 100\n",
        "df2['type'] = df2.item_id // 10000\n",
        "df2"
      ],
      "execution_count": 4,
      "outputs": [
        {
          "output_type": "execute_result",
          "data": {
            "text/html": [
              "<div>\n",
              "<style scoped>\n",
              "    .dataframe tbody tr th:only-of-type {\n",
              "        vertical-align: middle;\n",
              "    }\n",
              "\n",
              "    .dataframe tbody tr th {\n",
              "        vertical-align: top;\n",
              "    }\n",
              "\n",
              "    .dataframe thead th {\n",
              "        text-align: right;\n",
              "    }\n",
              "</style>\n",
              "<table border=\"1\" class=\"dataframe\">\n",
              "  <thead>\n",
              "    <tr style=\"text-align: right;\">\n",
              "      <th></th>\n",
              "      <th>item_id</th>\n",
              "      <th>From</th>\n",
              "      <th>Count</th>\n",
              "      <th>Date</th>\n",
              "      <th>Level</th>\n",
              "      <th>VIP</th>\n",
              "      <th>quality</th>\n",
              "      <th>type</th>\n",
              "    </tr>\n",
              "  </thead>\n",
              "  <tbody>\n",
              "    <tr>\n",
              "      <th>0</th>\n",
              "      <td>10004</td>\n",
              "      <td>Store1</td>\n",
              "      <td>2</td>\n",
              "      <td>9/29/2017</td>\n",
              "      <td>2</td>\n",
              "      <td>1</td>\n",
              "      <td>4</td>\n",
              "      <td>1</td>\n",
              "    </tr>\n",
              "    <tr>\n",
              "      <th>1</th>\n",
              "      <td>20004</td>\n",
              "      <td>Store1</td>\n",
              "      <td>10</td>\n",
              "      <td>9/29/2017</td>\n",
              "      <td>5</td>\n",
              "      <td>1</td>\n",
              "      <td>4</td>\n",
              "      <td>2</td>\n",
              "    </tr>\n",
              "    <tr>\n",
              "      <th>2</th>\n",
              "      <td>10001</td>\n",
              "      <td>Store2</td>\n",
              "      <td>64</td>\n",
              "      <td>9/29/2017</td>\n",
              "      <td>1</td>\n",
              "      <td>0</td>\n",
              "      <td>1</td>\n",
              "      <td>1</td>\n",
              "    </tr>\n",
              "    <tr>\n",
              "      <th>3</th>\n",
              "      <td>20002</td>\n",
              "      <td>Store2</td>\n",
              "      <td>25</td>\n",
              "      <td>9/29/2017</td>\n",
              "      <td>1</td>\n",
              "      <td>1</td>\n",
              "      <td>2</td>\n",
              "      <td>2</td>\n",
              "    </tr>\n",
              "    <tr>\n",
              "      <th>4</th>\n",
              "      <td>30002</td>\n",
              "      <td>Store2</td>\n",
              "      <td>46</td>\n",
              "      <td>9/29/2017</td>\n",
              "      <td>2</td>\n",
              "      <td>0</td>\n",
              "      <td>2</td>\n",
              "      <td>3</td>\n",
              "    </tr>\n",
              "    <tr>\n",
              "      <th>...</th>\n",
              "      <td>...</td>\n",
              "      <td>...</td>\n",
              "      <td>...</td>\n",
              "      <td>...</td>\n",
              "      <td>...</td>\n",
              "      <td>...</td>\n",
              "      <td>...</td>\n",
              "      <td>...</td>\n",
              "    </tr>\n",
              "    <tr>\n",
              "      <th>4990</th>\n",
              "      <td>30009</td>\n",
              "      <td>Sale1</td>\n",
              "      <td>144</td>\n",
              "      <td>10/23/2017</td>\n",
              "      <td>6</td>\n",
              "      <td>1</td>\n",
              "      <td>9</td>\n",
              "      <td>3</td>\n",
              "    </tr>\n",
              "    <tr>\n",
              "      <th>4991</th>\n",
              "      <td>30005</td>\n",
              "      <td>Sale1</td>\n",
              "      <td>160</td>\n",
              "      <td>10/23/2017</td>\n",
              "      <td>7</td>\n",
              "      <td>1</td>\n",
              "      <td>5</td>\n",
              "      <td>3</td>\n",
              "    </tr>\n",
              "    <tr>\n",
              "      <th>4992</th>\n",
              "      <td>20009</td>\n",
              "      <td>Sale1</td>\n",
              "      <td>176</td>\n",
              "      <td>10/23/2017</td>\n",
              "      <td>8</td>\n",
              "      <td>1</td>\n",
              "      <td>9</td>\n",
              "      <td>2</td>\n",
              "    </tr>\n",
              "    <tr>\n",
              "      <th>4993</th>\n",
              "      <td>10007</td>\n",
              "      <td>Sale1</td>\n",
              "      <td>120</td>\n",
              "      <td>10/23/2017</td>\n",
              "      <td>9</td>\n",
              "      <td>1</td>\n",
              "      <td>7</td>\n",
              "      <td>1</td>\n",
              "    </tr>\n",
              "    <tr>\n",
              "      <th>4994</th>\n",
              "      <td>20005</td>\n",
              "      <td>Sale1</td>\n",
              "      <td>96</td>\n",
              "      <td>10/23/2017</td>\n",
              "      <td>10</td>\n",
              "      <td>1</td>\n",
              "      <td>5</td>\n",
              "      <td>2</td>\n",
              "    </tr>\n",
              "  </tbody>\n",
              "</table>\n",
              "<p>4995 rows × 8 columns</p>\n",
              "</div>"
            ],
            "text/plain": [
              "      item_id    From  Count        Date  Level  VIP  quality  type\n",
              "0       10004  Store1      2   9/29/2017      2    1        4     1\n",
              "1       20004  Store1     10   9/29/2017      5    1        4     2\n",
              "2       10001  Store2     64   9/29/2017      1    0        1     1\n",
              "3       20002  Store2     25   9/29/2017      1    1        2     2\n",
              "4       30002  Store2     46   9/29/2017      2    0        2     3\n",
              "...       ...     ...    ...         ...    ...  ...      ...   ...\n",
              "4990    30009   Sale1    144  10/23/2017      6    1        9     3\n",
              "4991    30005   Sale1    160  10/23/2017      7    1        5     3\n",
              "4992    20009   Sale1    176  10/23/2017      8    1        9     2\n",
              "4993    10007   Sale1    120  10/23/2017      9    1        7     1\n",
              "4994    20005   Sale1     96  10/23/2017     10    1        5     2\n",
              "\n",
              "[4995 rows x 8 columns]"
            ]
          },
          "metadata": {
            "tags": []
          },
          "execution_count": 4
        }
      ]
    },
    {
      "cell_type": "markdown",
      "metadata": {
        "id": "evGeY9YWyc4j",
        "colab_type": "text"
      },
      "source": [
        "Видим проседающие по продажам предметов 29 и 30 августа."
      ]
    },
    {
      "cell_type": "code",
      "metadata": {
        "id": "erYsrNBByMBQ",
        "colab_type": "code",
        "colab": {
          "base_uri": "https://localhost:8080/",
          "height": 476
        },
        "outputId": "0499f5ba-ff90-4894-e2ae-9e27c1260922"
      },
      "source": [
        "df2.groupby('Date')['Count'].agg('sum').sort_values(ascending = False)"
      ],
      "execution_count": 5,
      "outputs": [
        {
          "output_type": "execute_result",
          "data": {
            "text/plain": [
              "Date\n",
              "10/19/2017    19733\n",
              "10/18/2017    17319\n",
              "10/20/2017    13036\n",
              "10/5/2017     12591\n",
              "10/6/2017     12491\n",
              "10/21/2017    11904\n",
              "10/13/2017    11552\n",
              "10/7/2017     11509\n",
              "10/14/2017    10771\n",
              "10/12/2017    10456\n",
              "10/9/2017     10374\n",
              "10/8/2017     10286\n",
              "10/22/2017    10082\n",
              "10/11/2017     9858\n",
              "10/17/2017     9627\n",
              "10/10/2017     9535\n",
              "10/15/2017     9201\n",
              "10/16/2017     9199\n",
              "10/4/2017      6926\n",
              "10/2/2017      6849\n",
              "10/3/2017      5904\n",
              "10/23/2017     5729\n",
              "10/1/2017      5120\n",
              "9/29/2017      2084\n",
              "9/30/2017      1785\n",
              "Name: Count, dtype: int64"
            ]
          },
          "metadata": {
            "tags": []
          },
          "execution_count": 5
        }
      ]
    },
    {
      "cell_type": "markdown",
      "metadata": {
        "id": "iqnCtjAVxQzA",
        "colab_type": "text"
      },
      "source": [
        "19.10.2017 нетипично хорошо покупали предметы не на распродаже. Отчасти, конечно, это связано с тем, что в этот день впринципе было больше продаж. <br><br>\n",
        "Строка с индексом 4026 — единственная для предметов, купленных не на распродаже, входящая в квантиль 0.995 по числу покупок."
      ]
    },
    {
      "cell_type": "code",
      "metadata": {
        "id": "5UQMP5DMw9M0",
        "colab_type": "code",
        "colab": {
          "base_uri": "https://localhost:8080/",
          "height": 142
        },
        "outputId": "8691cbde-3e56-41d5-b963-f90d57e2ca0c"
      },
      "source": [
        "df2[df2.From.isin(['Store1', 'Store2'])].sort_values(by = 'Count', ascending = False).head(3)"
      ],
      "execution_count": 6,
      "outputs": [
        {
          "output_type": "execute_result",
          "data": {
            "text/html": [
              "<div>\n",
              "<style scoped>\n",
              "    .dataframe tbody tr th:only-of-type {\n",
              "        vertical-align: middle;\n",
              "    }\n",
              "\n",
              "    .dataframe tbody tr th {\n",
              "        vertical-align: top;\n",
              "    }\n",
              "\n",
              "    .dataframe thead th {\n",
              "        text-align: right;\n",
              "    }\n",
              "</style>\n",
              "<table border=\"1\" class=\"dataframe\">\n",
              "  <thead>\n",
              "    <tr style=\"text-align: right;\">\n",
              "      <th></th>\n",
              "      <th>item_id</th>\n",
              "      <th>From</th>\n",
              "      <th>Count</th>\n",
              "      <th>Date</th>\n",
              "      <th>Level</th>\n",
              "      <th>VIP</th>\n",
              "      <th>quality</th>\n",
              "      <th>type</th>\n",
              "    </tr>\n",
              "  </thead>\n",
              "  <tbody>\n",
              "    <tr>\n",
              "      <th>4026</th>\n",
              "      <td>30006</td>\n",
              "      <td>Store1</td>\n",
              "      <td>510</td>\n",
              "      <td>10/19/2017</td>\n",
              "      <td>11</td>\n",
              "      <td>1</td>\n",
              "      <td>6</td>\n",
              "      <td>3</td>\n",
              "    </tr>\n",
              "    <tr>\n",
              "      <th>4045</th>\n",
              "      <td>20006</td>\n",
              "      <td>Store1</td>\n",
              "      <td>480</td>\n",
              "      <td>10/19/2017</td>\n",
              "      <td>11</td>\n",
              "      <td>1</td>\n",
              "      <td>6</td>\n",
              "      <td>2</td>\n",
              "    </tr>\n",
              "    <tr>\n",
              "      <th>4064</th>\n",
              "      <td>20008</td>\n",
              "      <td>Store1</td>\n",
              "      <td>370</td>\n",
              "      <td>10/19/2017</td>\n",
              "      <td>11</td>\n",
              "      <td>1</td>\n",
              "      <td>8</td>\n",
              "      <td>2</td>\n",
              "    </tr>\n",
              "  </tbody>\n",
              "</table>\n",
              "</div>"
            ],
            "text/plain": [
              "      item_id    From  Count        Date  Level  VIP  quality  type\n",
              "4026    30006  Store1    510  10/19/2017     11    1        6     3\n",
              "4045    20006  Store1    480  10/19/2017     11    1        6     2\n",
              "4064    20008  Store1    370  10/19/2017     11    1        8     2"
            ]
          },
          "metadata": {
            "tags": []
          },
          "execution_count": 6
        }
      ]
    },
    {
      "cell_type": "code",
      "metadata": {
        "id": "OL5qTboVwCAZ",
        "colab_type": "code",
        "colab": {
          "base_uri": "https://localhost:8080/",
          "height": 80
        },
        "outputId": "a5beb2d0-8716-49ba-fc6a-28611087b136"
      },
      "source": [
        "df2[(df2.Count > df.Count.quantile(0.99)) & (df2.From.isin(['Store1', 'Store2']))]"
      ],
      "execution_count": 7,
      "outputs": [
        {
          "output_type": "execute_result",
          "data": {
            "text/html": [
              "<div>\n",
              "<style scoped>\n",
              "    .dataframe tbody tr th:only-of-type {\n",
              "        vertical-align: middle;\n",
              "    }\n",
              "\n",
              "    .dataframe tbody tr th {\n",
              "        vertical-align: top;\n",
              "    }\n",
              "\n",
              "    .dataframe thead th {\n",
              "        text-align: right;\n",
              "    }\n",
              "</style>\n",
              "<table border=\"1\" class=\"dataframe\">\n",
              "  <thead>\n",
              "    <tr style=\"text-align: right;\">\n",
              "      <th></th>\n",
              "      <th>item_id</th>\n",
              "      <th>From</th>\n",
              "      <th>Count</th>\n",
              "      <th>Date</th>\n",
              "      <th>Level</th>\n",
              "      <th>VIP</th>\n",
              "      <th>quality</th>\n",
              "      <th>type</th>\n",
              "    </tr>\n",
              "  </thead>\n",
              "  <tbody>\n",
              "    <tr>\n",
              "      <th>4026</th>\n",
              "      <td>30006</td>\n",
              "      <td>Store1</td>\n",
              "      <td>510</td>\n",
              "      <td>10/19/2017</td>\n",
              "      <td>11</td>\n",
              "      <td>1</td>\n",
              "      <td>6</td>\n",
              "      <td>3</td>\n",
              "    </tr>\n",
              "  </tbody>\n",
              "</table>\n",
              "</div>"
            ],
            "text/plain": [
              "      item_id    From  Count        Date  Level  VIP  quality  type\n",
              "4026    30006  Store1    510  10/19/2017     11    1        6     3"
            ]
          },
          "metadata": {
            "tags": []
          },
          "execution_count": 7
        }
      ]
    },
    {
      "cell_type": "markdown",
      "metadata": {
        "id": "dwqMkDIL8Cg2",
        "colab_type": "text"
      },
      "source": [
        "Обратим внимание на строки с максимальным количеством продаж."
      ]
    },
    {
      "cell_type": "code",
      "metadata": {
        "id": "ntmsHAml8F6V",
        "colab_type": "code",
        "colab": {
          "base_uri": "https://localhost:8080/",
          "height": 111
        },
        "outputId": "9191fe52-d266-453d-a9ce-494e31828511"
      },
      "source": [
        "df2[df2.Count == df2.Count.max()]"
      ],
      "execution_count": 8,
      "outputs": [
        {
          "output_type": "execute_result",
          "data": {
            "text/html": [
              "<div>\n",
              "<style scoped>\n",
              "    .dataframe tbody tr th:only-of-type {\n",
              "        vertical-align: middle;\n",
              "    }\n",
              "\n",
              "    .dataframe tbody tr th {\n",
              "        vertical-align: top;\n",
              "    }\n",
              "\n",
              "    .dataframe thead th {\n",
              "        text-align: right;\n",
              "    }\n",
              "</style>\n",
              "<table border=\"1\" class=\"dataframe\">\n",
              "  <thead>\n",
              "    <tr style=\"text-align: right;\">\n",
              "      <th></th>\n",
              "      <th>item_id</th>\n",
              "      <th>From</th>\n",
              "      <th>Count</th>\n",
              "      <th>Date</th>\n",
              "      <th>Level</th>\n",
              "      <th>VIP</th>\n",
              "      <th>quality</th>\n",
              "      <th>type</th>\n",
              "    </tr>\n",
              "  </thead>\n",
              "  <tbody>\n",
              "    <tr>\n",
              "      <th>3910</th>\n",
              "      <td>30007</td>\n",
              "      <td>Sale1</td>\n",
              "      <td>2288</td>\n",
              "      <td>10/18/2017</td>\n",
              "      <td>11</td>\n",
              "      <td>1</td>\n",
              "      <td>7</td>\n",
              "      <td>3</td>\n",
              "    </tr>\n",
              "    <tr>\n",
              "      <th>3955</th>\n",
              "      <td>10009</td>\n",
              "      <td>Sale1</td>\n",
              "      <td>2288</td>\n",
              "      <td>10/18/2017</td>\n",
              "      <td>11</td>\n",
              "      <td>1</td>\n",
              "      <td>9</td>\n",
              "      <td>1</td>\n",
              "    </tr>\n",
              "  </tbody>\n",
              "</table>\n",
              "</div>"
            ],
            "text/plain": [
              "      item_id   From  Count        Date  Level  VIP  quality  type\n",
              "3910    30007  Sale1   2288  10/18/2017     11    1        7     3\n",
              "3955    10009  Sale1   2288  10/18/2017     11    1        9     1"
            ]
          },
          "metadata": {
            "tags": []
          },
          "execution_count": 8
        }
      ]
    },
    {
      "cell_type": "markdown",
      "metadata": {
        "id": "QEwfW9pVj0qA",
        "colab_type": "text"
      },
      "source": [
        "<h1>Блок 3</h1>"
      ]
    },
    {
      "cell_type": "markdown",
      "metadata": {
        "id": "MhlIkTQej1K5",
        "colab_type": "text"
      },
      "source": [
        "Разницы, когда тратить конкретные бонусы нет, мы и так, и так получим одинаковое количество опыта. <br>\n",
        "- Сначала посмотрим, сколько опыта наберёт игрок просто заходя в приложение 50 дней: <br>\n",
        "50\\*100 + 7*5500 = 43500 <br>\n",
        "- Этого хватит на покупку 145 уровней (остаток — 0 у.е.)\n",
        "- Прокачавшись до 145 уровня пользователь получит:\n",
        "  - 8 яблок (400 у.е.)\n",
        "  - 7 апельсинов (525 у.е.)\n",
        "  - 8 груш (1040 у.е.)\n",
        "- Итого у нас на балансе 1965 у.е.\n",
        "- Самый выгодный спосок покупки уровней, как ни странно, 5 уровней за 120 у.е. (24 у.е. за 1 уровень).\n",
        "- Покупаем на все, 16*5 = 80 уровней. В остатке 45 у.е.\n",
        "- Итого у нас 225 уровень. Значит получили ещё:\n",
        "  - 3 яблока, 3 апельсина, 2 груши, суммарно 635 у.е.\n",
        "- На балансе 680 у.е. Покупаем 25 уровней за 600. В остатке 80 у.е., уровень 250.\n",
        "- Получили ещё 1 грушу, 1 яблоко, 1 апельсин, суммарно 255 у.е. В остатке 335 у.е.\n",
        "- Очевидно, приближаемся к моменту, когда уже не сможем купить уровни. Два варианта:\n",
        "  - Снова тратим 240 на 10 уровней, в остатке 95, уровень 260. Продаём полученную грушу, на балансе 225 у.е. Покупаем 5 уровней, 265 уровень, остаток 105. Стоп.\n",
        "  - Покупаем 11 уровней за 275. Уровень 261. Остаток 60. Продаём полученную грушу, баланс становится 190. Покупаем 5 уровней, уровень становится 266. На балансе 70. Стоп.\n",
        "- Как видим, вторая стратегия выгоднее. \n",
        "- Однако, это значит, что в прошлом мы могли два раза взять не 10 уровней за 240, а два раза 11 за 275 (цель оптимизации - конечный уровень). \n",
        "- Предположим, мы просчитали всё заранее, а значит сделали это на моменте, когда у нас был баланс 680, мы потратили на 70 больше, но получили на 2 уровня больше (это не влияет на получение новых фруктов - до 270 не дойдём всё равно). "
      ]
    },
    {
      "cell_type": "markdown",
      "metadata": {
        "id": "Sau1ek8yoDbp",
        "colab_type": "text"
      },
      "source": [
        "**Итого**\n",
        "- Уровень: 268\n",
        "- Яблок — 12, апельсинов — 11, груш — 12\n",
        "- Потрачено = заработано = 46485\n",
        "- На балансе: 0"
      ]
    },
    {
      "cell_type": "markdown",
      "metadata": {
        "id": "hLYH5ddVjl0F",
        "colab_type": "text"
      },
      "source": [
        "<h1>Блок 4</h1>"
      ]
    },
    {
      "cell_type": "code",
      "metadata": {
        "id": "YhdhMaLCjoQd",
        "colab_type": "code",
        "colab": {
          "base_uri": "https://localhost:8080/",
          "height": 419
        },
        "outputId": "51e5232a-0032-4482-d79b-6ff16f74dcef"
      },
      "source": [
        "df4 = pd.read_csv('ex4.csv', sep = '\\t')\n",
        "df4['percent_win'] = round(df4.win/df4.play, 3)\n",
        "df4['percent_lose'] = round(df4.lose / df4.play, 3)\n",
        "df4['percent_quit'] = round(df4.quit / df4.play, 3)\n",
        "df4['not_win_nearly'] = round(df4.nearly / (df4.lose + df4.quit), 3)\n",
        "df4['gold_per_user'] = round(df4.gold / df4.play, 3)\n",
        "df4"
      ],
      "execution_count": 9,
      "outputs": [
        {
          "output_type": "execute_result",
          "data": {
            "text/html": [
              "<div>\n",
              "<style scoped>\n",
              "    .dataframe tbody tr th:only-of-type {\n",
              "        vertical-align: middle;\n",
              "    }\n",
              "\n",
              "    .dataframe tbody tr th {\n",
              "        vertical-align: top;\n",
              "    }\n",
              "\n",
              "    .dataframe thead th {\n",
              "        text-align: right;\n",
              "    }\n",
              "</style>\n",
              "<table border=\"1\" class=\"dataframe\">\n",
              "  <thead>\n",
              "    <tr style=\"text-align: right;\">\n",
              "      <th></th>\n",
              "      <th>id</th>\n",
              "      <th>play</th>\n",
              "      <th>win</th>\n",
              "      <th>lose</th>\n",
              "      <th>quit</th>\n",
              "      <th>nearly</th>\n",
              "      <th>gold</th>\n",
              "      <th>percent_win</th>\n",
              "      <th>percent_lose</th>\n",
              "      <th>percent_quit</th>\n",
              "      <th>not_win_nearly</th>\n",
              "      <th>gold_per_user</th>\n",
              "    </tr>\n",
              "  </thead>\n",
              "  <tbody>\n",
              "    <tr>\n",
              "      <th>0</th>\n",
              "      <td>1</td>\n",
              "      <td>100253</td>\n",
              "      <td>58197</td>\n",
              "      <td>5511</td>\n",
              "      <td>36545</td>\n",
              "      <td>31201</td>\n",
              "      <td>45976</td>\n",
              "      <td>0.581</td>\n",
              "      <td>0.055</td>\n",
              "      <td>0.365</td>\n",
              "      <td>0.742</td>\n",
              "      <td>0.459</td>\n",
              "    </tr>\n",
              "    <tr>\n",
              "      <th>1</th>\n",
              "      <td>2</td>\n",
              "      <td>117368</td>\n",
              "      <td>72262</td>\n",
              "      <td>40971</td>\n",
              "      <td>4135</td>\n",
              "      <td>10805</td>\n",
              "      <td>26737</td>\n",
              "      <td>0.616</td>\n",
              "      <td>0.349</td>\n",
              "      <td>0.035</td>\n",
              "      <td>0.240</td>\n",
              "      <td>0.228</td>\n",
              "    </tr>\n",
              "    <tr>\n",
              "      <th>2</th>\n",
              "      <td>3</td>\n",
              "      <td>77872</td>\n",
              "      <td>44299</td>\n",
              "      <td>32132</td>\n",
              "      <td>1441</td>\n",
              "      <td>5871</td>\n",
              "      <td>31453</td>\n",
              "      <td>0.569</td>\n",
              "      <td>0.413</td>\n",
              "      <td>0.019</td>\n",
              "      <td>0.175</td>\n",
              "      <td>0.404</td>\n",
              "    </tr>\n",
              "    <tr>\n",
              "      <th>3</th>\n",
              "      <td>4</td>\n",
              "      <td>89036</td>\n",
              "      <td>44538</td>\n",
              "      <td>43190</td>\n",
              "      <td>1308</td>\n",
              "      <td>23140</td>\n",
              "      <td>4900</td>\n",
              "      <td>0.500</td>\n",
              "      <td>0.485</td>\n",
              "      <td>0.015</td>\n",
              "      <td>0.520</td>\n",
              "      <td>0.055</td>\n",
              "    </tr>\n",
              "    <tr>\n",
              "      <th>4</th>\n",
              "      <td>5</td>\n",
              "      <td>59219</td>\n",
              "      <td>36378</td>\n",
              "      <td>22095</td>\n",
              "      <td>746</td>\n",
              "      <td>22663</td>\n",
              "      <td>35287</td>\n",
              "      <td>0.614</td>\n",
              "      <td>0.373</td>\n",
              "      <td>0.013</td>\n",
              "      <td>0.992</td>\n",
              "      <td>0.596</td>\n",
              "    </tr>\n",
              "    <tr>\n",
              "      <th>...</th>\n",
              "      <td>...</td>\n",
              "      <td>...</td>\n",
              "      <td>...</td>\n",
              "      <td>...</td>\n",
              "      <td>...</td>\n",
              "      <td>...</td>\n",
              "      <td>...</td>\n",
              "      <td>...</td>\n",
              "      <td>...</td>\n",
              "      <td>...</td>\n",
              "      <td>...</td>\n",
              "      <td>...</td>\n",
              "    </tr>\n",
              "    <tr>\n",
              "      <th>97</th>\n",
              "      <td>98</td>\n",
              "      <td>27463</td>\n",
              "      <td>25621</td>\n",
              "      <td>1742</td>\n",
              "      <td>100</td>\n",
              "      <td>760</td>\n",
              "      <td>21266</td>\n",
              "      <td>0.933</td>\n",
              "      <td>0.063</td>\n",
              "      <td>0.004</td>\n",
              "      <td>0.413</td>\n",
              "      <td>0.774</td>\n",
              "    </tr>\n",
              "    <tr>\n",
              "      <th>98</th>\n",
              "      <td>99</td>\n",
              "      <td>13788</td>\n",
              "      <td>13101</td>\n",
              "      <td>648</td>\n",
              "      <td>39</td>\n",
              "      <td>523</td>\n",
              "      <td>12053</td>\n",
              "      <td>0.950</td>\n",
              "      <td>0.047</td>\n",
              "      <td>0.003</td>\n",
              "      <td>0.761</td>\n",
              "      <td>0.874</td>\n",
              "    </tr>\n",
              "    <tr>\n",
              "      <th>99</th>\n",
              "      <td>100</td>\n",
              "      <td>5428</td>\n",
              "      <td>5328</td>\n",
              "      <td>93</td>\n",
              "      <td>7</td>\n",
              "      <td>81</td>\n",
              "      <td>2025</td>\n",
              "      <td>0.982</td>\n",
              "      <td>0.017</td>\n",
              "      <td>0.001</td>\n",
              "      <td>0.810</td>\n",
              "      <td>0.373</td>\n",
              "    </tr>\n",
              "    <tr>\n",
              "      <th>100</th>\n",
              "      <td>101</td>\n",
              "      <td>1132</td>\n",
              "      <td>1120</td>\n",
              "      <td>11</td>\n",
              "      <td>1</td>\n",
              "      <td>0</td>\n",
              "      <td>516</td>\n",
              "      <td>0.989</td>\n",
              "      <td>0.010</td>\n",
              "      <td>0.001</td>\n",
              "      <td>0.000</td>\n",
              "      <td>0.456</td>\n",
              "    </tr>\n",
              "    <tr>\n",
              "      <th>101</th>\n",
              "      <td>102</td>\n",
              "      <td>113</td>\n",
              "      <td>90</td>\n",
              "      <td>20</td>\n",
              "      <td>3</td>\n",
              "      <td>12</td>\n",
              "      <td>70</td>\n",
              "      <td>0.796</td>\n",
              "      <td>0.177</td>\n",
              "      <td>0.027</td>\n",
              "      <td>0.522</td>\n",
              "      <td>0.619</td>\n",
              "    </tr>\n",
              "  </tbody>\n",
              "</table>\n",
              "<p>102 rows × 12 columns</p>\n",
              "</div>"
            ],
            "text/plain": [
              "      id    play    win  ...  percent_quit  not_win_nearly  gold_per_user\n",
              "0      1  100253  58197  ...         0.365           0.742          0.459\n",
              "1      2  117368  72262  ...         0.035           0.240          0.228\n",
              "2      3   77872  44299  ...         0.019           0.175          0.404\n",
              "3      4   89036  44538  ...         0.015           0.520          0.055\n",
              "4      5   59219  36378  ...         0.013           0.992          0.596\n",
              "..   ...     ...    ...  ...           ...             ...            ...\n",
              "97    98   27463  25621  ...         0.004           0.413          0.774\n",
              "98    99   13788  13101  ...         0.003           0.761          0.874\n",
              "99   100    5428   5328  ...         0.001           0.810          0.373\n",
              "100  101    1132   1120  ...         0.001           0.000          0.456\n",
              "101  102     113     90  ...         0.027           0.522          0.619\n",
              "\n",
              "[102 rows x 12 columns]"
            ]
          },
          "metadata": {
            "tags": []
          },
          "execution_count": 9
        }
      ]
    },
    {
      "cell_type": "markdown",
      "metadata": {
        "id": "bL1Z7Yc_l5Nn",
        "colab_type": "text"
      },
      "source": [
        "**1. Самый сложный уровень.** <br>\n",
        "\n",
        "Отсортируем по проценту побед (возрастание) и проценту близких к победе (возрастание). \n",
        "<br> Самые «плохие» показатели у уровня **4**. <br>\n",
        "По сравнению с 11-м многие не то, что проиграли, но не были даже близки к победе."
      ]
    },
    {
      "cell_type": "code",
      "metadata": {
        "id": "yNSjJgHcl7n5",
        "colab_type": "code",
        "colab": {
          "base_uri": "https://localhost:8080/",
          "height": 204
        },
        "outputId": "a57854a1-fc48-41ca-995b-6ae31c0729fd"
      },
      "source": [
        "df4[['id', 'percent_win', 'percent_lose', 'not_win_nearly']].sort_values(by = ['percent_win', 'not_win_nearly'], ascending = (True, False)).head(5)"
      ],
      "execution_count": 10,
      "outputs": [
        {
          "output_type": "execute_result",
          "data": {
            "text/html": [
              "<div>\n",
              "<style scoped>\n",
              "    .dataframe tbody tr th:only-of-type {\n",
              "        vertical-align: middle;\n",
              "    }\n",
              "\n",
              "    .dataframe tbody tr th {\n",
              "        vertical-align: top;\n",
              "    }\n",
              "\n",
              "    .dataframe thead th {\n",
              "        text-align: right;\n",
              "    }\n",
              "</style>\n",
              "<table border=\"1\" class=\"dataframe\">\n",
              "  <thead>\n",
              "    <tr style=\"text-align: right;\">\n",
              "      <th></th>\n",
              "      <th>id</th>\n",
              "      <th>percent_win</th>\n",
              "      <th>percent_lose</th>\n",
              "      <th>not_win_nearly</th>\n",
              "    </tr>\n",
              "  </thead>\n",
              "  <tbody>\n",
              "    <tr>\n",
              "      <th>10</th>\n",
              "      <td>11</td>\n",
              "      <td>0.498</td>\n",
              "      <td>0.484</td>\n",
              "      <td>0.709</td>\n",
              "    </tr>\n",
              "    <tr>\n",
              "      <th>3</th>\n",
              "      <td>4</td>\n",
              "      <td>0.500</td>\n",
              "      <td>0.485</td>\n",
              "      <td>0.520</td>\n",
              "    </tr>\n",
              "    <tr>\n",
              "      <th>17</th>\n",
              "      <td>18</td>\n",
              "      <td>0.568</td>\n",
              "      <td>0.418</td>\n",
              "      <td>0.571</td>\n",
              "    </tr>\n",
              "    <tr>\n",
              "      <th>2</th>\n",
              "      <td>3</td>\n",
              "      <td>0.569</td>\n",
              "      <td>0.413</td>\n",
              "      <td>0.175</td>\n",
              "    </tr>\n",
              "    <tr>\n",
              "      <th>48</th>\n",
              "      <td>49</td>\n",
              "      <td>0.577</td>\n",
              "      <td>0.408</td>\n",
              "      <td>0.951</td>\n",
              "    </tr>\n",
              "  </tbody>\n",
              "</table>\n",
              "</div>"
            ],
            "text/plain": [
              "    id  percent_win  percent_lose  not_win_nearly\n",
              "10  11        0.498         0.484           0.709\n",
              "3    4        0.500         0.485           0.520\n",
              "17  18        0.568         0.418           0.571\n",
              "2    3        0.569         0.413           0.175\n",
              "48  49        0.577         0.408           0.951"
            ]
          },
          "metadata": {
            "tags": []
          },
          "execution_count": 10
        }
      ]
    },
    {
      "cell_type": "markdown",
      "metadata": {
        "id": "2W-WHTZGlUIC",
        "colab_type": "text"
      },
      "source": [
        "**2. Самый лёгкий уровень.** <br>\n",
        "\n",
        "Отсортируем по проценту побед и проценту близких к победе. Самые высокие показатели у уровня **71**."
      ]
    },
    {
      "cell_type": "code",
      "metadata": {
        "id": "nzm33Y77k2gk",
        "colab_type": "code",
        "colab": {
          "base_uri": "https://localhost:8080/",
          "height": 204
        },
        "outputId": "6fef279e-774c-49c6-b8a2-372a24811f61"
      },
      "source": [
        "df4[['id', 'percent_win', 'not_win_nearly']].sort_values(by = ['percent_win', 'not_win_nearly'], ascending = False).head(5)"
      ],
      "execution_count": 11,
      "outputs": [
        {
          "output_type": "execute_result",
          "data": {
            "text/html": [
              "<div>\n",
              "<style scoped>\n",
              "    .dataframe tbody tr th:only-of-type {\n",
              "        vertical-align: middle;\n",
              "    }\n",
              "\n",
              "    .dataframe tbody tr th {\n",
              "        vertical-align: top;\n",
              "    }\n",
              "\n",
              "    .dataframe thead th {\n",
              "        text-align: right;\n",
              "    }\n",
              "</style>\n",
              "<table border=\"1\" class=\"dataframe\">\n",
              "  <thead>\n",
              "    <tr style=\"text-align: right;\">\n",
              "      <th></th>\n",
              "      <th>id</th>\n",
              "      <th>percent_win</th>\n",
              "      <th>not_win_nearly</th>\n",
              "    </tr>\n",
              "  </thead>\n",
              "  <tbody>\n",
              "    <tr>\n",
              "      <th>70</th>\n",
              "      <td>71</td>\n",
              "      <td>0.990</td>\n",
              "      <td>0.394</td>\n",
              "    </tr>\n",
              "    <tr>\n",
              "      <th>61</th>\n",
              "      <td>62</td>\n",
              "      <td>0.989</td>\n",
              "      <td>0.095</td>\n",
              "    </tr>\n",
              "    <tr>\n",
              "      <th>100</th>\n",
              "      <td>101</td>\n",
              "      <td>0.989</td>\n",
              "      <td>0.000</td>\n",
              "    </tr>\n",
              "    <tr>\n",
              "      <th>52</th>\n",
              "      <td>53</td>\n",
              "      <td>0.988</td>\n",
              "      <td>0.146</td>\n",
              "    </tr>\n",
              "    <tr>\n",
              "      <th>71</th>\n",
              "      <td>72</td>\n",
              "      <td>0.985</td>\n",
              "      <td>0.394</td>\n",
              "    </tr>\n",
              "  </tbody>\n",
              "</table>\n",
              "</div>"
            ],
            "text/plain": [
              "      id  percent_win  not_win_nearly\n",
              "70    71        0.990           0.394\n",
              "61    62        0.989           0.095\n",
              "100  101        0.989           0.000\n",
              "52    53        0.988           0.146\n",
              "71    72        0.985           0.394"
            ]
          },
          "metadata": {
            "tags": []
          },
          "execution_count": 11
        }
      ]
    },
    {
      "cell_type": "markdown",
      "metadata": {
        "id": "uPqGB937nE-c",
        "colab_type": "text"
      },
      "source": [
        "**3. Самый лучший уровень.** <br>\n",
        "\n",
        "Уровень **20** не только приносит больше всего денег с одной игры, но и имеет хорошие показатели проходимости и выходов, а значит не раздражает игроков и не провоцирует их покинуть игру. <br>\n",
        "В целом, уровень **99** ему эквивалентен: игроки тратят незначительно меньше, но реже выходят и чаще побеждают. А значит, он приятнее."
      ]
    },
    {
      "cell_type": "code",
      "metadata": {
        "id": "p7DRLnC0kWka",
        "colab_type": "code",
        "colab": {
          "base_uri": "https://localhost:8080/",
          "height": 204
        },
        "outputId": "532dd9e8-b3ca-48a3-ef91-519e3e0e56cc"
      },
      "source": [
        "df4[['id', 'play', 'gold_per_user', 'percent_quit', 'percent_win']].sort_values(by = 'gold_per_user', ascending = False).head(5)"
      ],
      "execution_count": 12,
      "outputs": [
        {
          "output_type": "execute_result",
          "data": {
            "text/html": [
              "<div>\n",
              "<style scoped>\n",
              "    .dataframe tbody tr th:only-of-type {\n",
              "        vertical-align: middle;\n",
              "    }\n",
              "\n",
              "    .dataframe tbody tr th {\n",
              "        vertical-align: top;\n",
              "    }\n",
              "\n",
              "    .dataframe thead th {\n",
              "        text-align: right;\n",
              "    }\n",
              "</style>\n",
              "<table border=\"1\" class=\"dataframe\">\n",
              "  <thead>\n",
              "    <tr style=\"text-align: right;\">\n",
              "      <th></th>\n",
              "      <th>id</th>\n",
              "      <th>play</th>\n",
              "      <th>gold_per_user</th>\n",
              "      <th>percent_quit</th>\n",
              "      <th>percent_win</th>\n",
              "    </tr>\n",
              "  </thead>\n",
              "  <tbody>\n",
              "    <tr>\n",
              "      <th>19</th>\n",
              "      <td>20</td>\n",
              "      <td>23002</td>\n",
              "      <td>0.900</td>\n",
              "      <td>0.004</td>\n",
              "      <td>0.938</td>\n",
              "    </tr>\n",
              "    <tr>\n",
              "      <th>98</th>\n",
              "      <td>99</td>\n",
              "      <td>13788</td>\n",
              "      <td>0.874</td>\n",
              "      <td>0.003</td>\n",
              "      <td>0.950</td>\n",
              "    </tr>\n",
              "    <tr>\n",
              "      <th>12</th>\n",
              "      <td>13</td>\n",
              "      <td>11723</td>\n",
              "      <td>0.850</td>\n",
              "      <td>0.006</td>\n",
              "      <td>0.924</td>\n",
              "    </tr>\n",
              "    <tr>\n",
              "      <th>81</th>\n",
              "      <td>82</td>\n",
              "      <td>1204</td>\n",
              "      <td>0.844</td>\n",
              "      <td>0.002</td>\n",
              "      <td>0.948</td>\n",
              "    </tr>\n",
              "    <tr>\n",
              "      <th>35</th>\n",
              "      <td>36</td>\n",
              "      <td>26673</td>\n",
              "      <td>0.839</td>\n",
              "      <td>0.002</td>\n",
              "      <td>0.932</td>\n",
              "    </tr>\n",
              "  </tbody>\n",
              "</table>\n",
              "</div>"
            ],
            "text/plain": [
              "    id   play  gold_per_user  percent_quit  percent_win\n",
              "19  20  23002          0.900         0.004        0.938\n",
              "98  99  13788          0.874         0.003        0.950\n",
              "12  13  11723          0.850         0.006        0.924\n",
              "81  82   1204          0.844         0.002        0.948\n",
              "35  36  26673          0.839         0.002        0.932"
            ]
          },
          "metadata": {
            "tags": []
          },
          "execution_count": 12
        }
      ]
    },
    {
      "cell_type": "markdown",
      "metadata": {
        "id": "DwajAK0Ln1qg",
        "colab_type": "text"
      },
      "source": [
        "**4. Часто вынуждающие к выходу.**\n",
        "\n",
        "Просто сортируем по проценту выходов. Это уровень **22**."
      ]
    },
    {
      "cell_type": "code",
      "metadata": {
        "id": "V6OWWeIwn9bR",
        "colab_type": "code",
        "colab": {
          "base_uri": "https://localhost:8080/",
          "height": 204
        },
        "outputId": "7427f483-7590-4d9e-9154-de3a391f51a3"
      },
      "source": [
        "df4[['id', 'play', 'percent_quit']].sort_values(by = 'percent_quit', ascending = False).head(5)"
      ],
      "execution_count": 13,
      "outputs": [
        {
          "output_type": "execute_result",
          "data": {
            "text/html": [
              "<div>\n",
              "<style scoped>\n",
              "    .dataframe tbody tr th:only-of-type {\n",
              "        vertical-align: middle;\n",
              "    }\n",
              "\n",
              "    .dataframe tbody tr th {\n",
              "        vertical-align: top;\n",
              "    }\n",
              "\n",
              "    .dataframe thead th {\n",
              "        text-align: right;\n",
              "    }\n",
              "</style>\n",
              "<table border=\"1\" class=\"dataframe\">\n",
              "  <thead>\n",
              "    <tr style=\"text-align: right;\">\n",
              "      <th></th>\n",
              "      <th>id</th>\n",
              "      <th>play</th>\n",
              "      <th>percent_quit</th>\n",
              "    </tr>\n",
              "  </thead>\n",
              "  <tbody>\n",
              "    <tr>\n",
              "      <th>21</th>\n",
              "      <td>22</td>\n",
              "      <td>269891</td>\n",
              "      <td>0.378</td>\n",
              "    </tr>\n",
              "    <tr>\n",
              "      <th>45</th>\n",
              "      <td>46</td>\n",
              "      <td>114043</td>\n",
              "      <td>0.376</td>\n",
              "    </tr>\n",
              "    <tr>\n",
              "      <th>54</th>\n",
              "      <td>55</td>\n",
              "      <td>187419</td>\n",
              "      <td>0.374</td>\n",
              "    </tr>\n",
              "    <tr>\n",
              "      <th>37</th>\n",
              "      <td>38</td>\n",
              "      <td>60971</td>\n",
              "      <td>0.373</td>\n",
              "    </tr>\n",
              "    <tr>\n",
              "      <th>29</th>\n",
              "      <td>30</td>\n",
              "      <td>80881</td>\n",
              "      <td>0.372</td>\n",
              "    </tr>\n",
              "  </tbody>\n",
              "</table>\n",
              "</div>"
            ],
            "text/plain": [
              "    id    play  percent_quit\n",
              "21  22  269891         0.378\n",
              "45  46  114043         0.376\n",
              "54  55  187419         0.374\n",
              "37  38   60971         0.373\n",
              "29  30   80881         0.372"
            ]
          },
          "metadata": {
            "tags": []
          },
          "execution_count": 13
        }
      ]
    },
    {
      "cell_type": "markdown",
      "metadata": {
        "id": "_DELwCB-roIx",
        "colab_type": "text"
      },
      "source": [
        "**5. Уровень, где тратят больше всего.** <br>\n",
        "\n",
        "Сортируем по золоту, потраченному на человека. Получаем уровень **20**."
      ]
    },
    {
      "cell_type": "code",
      "metadata": {
        "id": "7n7GvlY2tNXE",
        "colab_type": "code",
        "colab": {
          "base_uri": "https://localhost:8080/",
          "height": 204
        },
        "outputId": "9c189b35-c9b8-4419-d4a9-6f278329795b"
      },
      "source": [
        "df4[['id', 'play', 'gold_per_user']].sort_values(by = 'gold_per_user', ascending = False).head(5)"
      ],
      "execution_count": 14,
      "outputs": [
        {
          "output_type": "execute_result",
          "data": {
            "text/html": [
              "<div>\n",
              "<style scoped>\n",
              "    .dataframe tbody tr th:only-of-type {\n",
              "        vertical-align: middle;\n",
              "    }\n",
              "\n",
              "    .dataframe tbody tr th {\n",
              "        vertical-align: top;\n",
              "    }\n",
              "\n",
              "    .dataframe thead th {\n",
              "        text-align: right;\n",
              "    }\n",
              "</style>\n",
              "<table border=\"1\" class=\"dataframe\">\n",
              "  <thead>\n",
              "    <tr style=\"text-align: right;\">\n",
              "      <th></th>\n",
              "      <th>id</th>\n",
              "      <th>play</th>\n",
              "      <th>gold_per_user</th>\n",
              "    </tr>\n",
              "  </thead>\n",
              "  <tbody>\n",
              "    <tr>\n",
              "      <th>19</th>\n",
              "      <td>20</td>\n",
              "      <td>23002</td>\n",
              "      <td>0.900</td>\n",
              "    </tr>\n",
              "    <tr>\n",
              "      <th>98</th>\n",
              "      <td>99</td>\n",
              "      <td>13788</td>\n",
              "      <td>0.874</td>\n",
              "    </tr>\n",
              "    <tr>\n",
              "      <th>12</th>\n",
              "      <td>13</td>\n",
              "      <td>11723</td>\n",
              "      <td>0.850</td>\n",
              "    </tr>\n",
              "    <tr>\n",
              "      <th>81</th>\n",
              "      <td>82</td>\n",
              "      <td>1204</td>\n",
              "      <td>0.844</td>\n",
              "    </tr>\n",
              "    <tr>\n",
              "      <th>35</th>\n",
              "      <td>36</td>\n",
              "      <td>26673</td>\n",
              "      <td>0.839</td>\n",
              "    </tr>\n",
              "  </tbody>\n",
              "</table>\n",
              "</div>"
            ],
            "text/plain": [
              "    id   play  gold_per_user\n",
              "19  20  23002          0.900\n",
              "98  99  13788          0.874\n",
              "12  13  11723          0.850\n",
              "81  82   1204          0.844\n",
              "35  36  26673          0.839"
            ]
          },
          "metadata": {
            "tags": []
          },
          "execution_count": 14
        }
      ]
    },
    {
      "cell_type": "markdown",
      "metadata": {
        "id": "hcHt7BtGA5Wk",
        "colab_type": "text"
      },
      "source": [
        "<h1>Блок 5</h1>"
      ]
    },
    {
      "cell_type": "markdown",
      "metadata": {
        "id": "tVOF6LM8A7ku",
        "colab_type": "text"
      },
      "source": [
        "**Вопрос 1.** <br>\n",
        "- Резкие скачки. <br> \n",
        "- Можно определить допустивые уровни максимального отклонения от среднего вверх и вниз. <br> \n",
        "В частности, например, если распределение заболевших по дням близко к нормальному, то через +/- $3\\sigma$. \n"
      ]
    },
    {
      "cell_type": "markdown",
      "metadata": {
        "id": "m53ivsOOB-Lp",
        "colab_type": "text"
      },
      "source": [
        "**Вопрос 2.** <br> \n",
        "- Статистический тест для проверки нулевой гипотезы о том, что коэффициент корреляции между событиями пунктов 1 и 2 равен нулю. Соответственно, если гипотеза уверенно отвергается на выбранном уровне значимости, то связь есть.\n",
        "- Просто посчитать коэффициент корреляции через .corr(). Если он сильно отличен от нуля, то связь, очевидно, есть."
      ]
    },
    {
      "cell_type": "markdown",
      "metadata": {
        "id": "ZaPbtUCjCqoQ",
        "colab_type": "text"
      },
      "source": [
        "**Вопрос 3.** <br> \n",
        "- Анализ временного ряда и построение прогноза по уже имеющимся данным."
      ]
    },
    {
      "cell_type": "markdown",
      "metadata": {
        "id": "Z2AWw5AoDCKd",
        "colab_type": "text"
      },
      "source": [
        "**Вопрос 4.** <br>\n",
        "- Возьмём две группы, тех, кто принимал плацебо, и тех, кто принимал разработанную вакцину. Сравним статистическим тестом (t-критерий Стьюдента) нулевую гипотезу о равенстве сроков выздоровления. <br>\n",
        "- Если нулевую гипотезу не получилось отвергнуть на удовлетворяющем нас уровне значимости, то мы не можем сделать вывод, что разработанная вакцина не имеет эффекта, так как срок выздоровления не изменился.\n",
        "- Также может быть применим статистический подход с проверкой гипотезы о равенстве вероятностей, если, например, какое-то количество людей от z-вируса не выздоравливает вовсе.  "
      ]
    }
  ]
}